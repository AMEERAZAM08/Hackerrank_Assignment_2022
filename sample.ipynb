{
 "cells": [
  {
   "cell_type": "markdown",
   "id": "62e5090e-c6bb-4a5f-9920-007f3429eae3",
   "metadata": {},
   "source": [
    "It is a sample notebook for illustration purposes only. We recommend including the below cell with important candidate instructions.\n",
    "You may need to update the OS and package versions based on the current environment."
   ]
  },
  {
   "cell_type": "markdown",
   "id": "fd96a711-fffe-46d0-8dbd-7717067fe42c",
   "metadata": {
    "tags": []
   },
   "source": [
    "### Environment\n",
    "Ubuntu 22.04 LTS which includes **Python 3.9.12** and utilities *curl*, *git*, *vim*, *unzip*, *wget*, and *zip*. There is no *GPU* support.\n",
    "\n",
    "The IPython Kernel allows you to execute Python code in the Notebook cell and Python console.\n",
    "\n",
    "### Installing packages\n",
    "- Run `!mamba list \"package_name\"` command to check the package installation status. For example,\n",
    "\n",
    "```python\n",
    "!mamba list numpy\n",
    "\"\"\"\n",
    "# packages in environment at /opt/conda:\n",
    "#\n",
    "# Name                    Version                   Build  Channel\n",
    "numpy                     1.21.6           py39h18676bf_0    conda-forge\n",
    "\"\"\"\n",
    "```\n",
    "\n",
    "    You can also try importing the package.\n",
    "\n",
    "- Run the `!mamba install \"package_name\"` to install a package\n",
    "\n",
    "### Excluding large files\n",
    "HackerRank rejects any submission larger than **20MB**. Therefore, you must exclude any large files by adding these to the *.gitignore* file.\n",
    "You can **Submit** code to validate the status of your submission."
   ]
  },
  {
   "cell_type": "markdown",
   "id": "de14c970",
   "metadata": {},
   "source": [
    "## Introduction\n",
    "\n",
    "The Occupational Employment and Wage Statistics (OEWS) program produces employment and wage estimates annually for nearly 800 occupations. These estimates are available for the nation as a whole, for individual states, and for metropolitan and nonmetropolitan areas; national occupational estimates for specific industries are also available.\n",
    "\n",
    "## Problem\n",
    "\n",
    "The data used in this problem is a subset of the OEWS data, which include the 10-th percentile, 25-th percentile, 50-th percentile (a.k.a median), 75-th percentile, and 90-th percentile of the annual salary of a given combination of states, industries, and occupations.\n",
    "\n",
    "One needs to use the data in _train.csv_ to train a machine learning model to predict the 10-th, 25-th, 50-th, 75-th and 90-th percentiles of the given combinations in _submission.csv_.\n",
    "\n",
    "## Data\n",
    "\n",
    "### Independent Variables\n",
    "\n",
    "There are three independent variable columns:\n",
    "- PRIM_STATE\n",
    "- NAICS_TITLE\n",
    "- OCC_TITLE\n",
    "\n",
    "indicating the state, industry, and occupation.\n",
    "\n",
    "NOTE:\n",
    "- In the _PRIM_STATE_ variable, each category indicates a state postal abbreviation (like \"_CA_\", \"_TX_\", etc.) or \"_U.S_\" as the whole United States. When _PRIM_STATE_ is \"_U.S_\", it means the percentiles are aggregated across all the states.\n",
    "- In thes _NAICS_TITLE_, each category indicates an industry sector name (like \"_Retail Trade_\", \"_Manufacturing_\") or \"_Cross-industry_\". When _NAICS_TITLE_ is \"_Cross-industry_\", it means the percentiles are aggregated across all the industries.\n",
    "\n",
    "### Target Variables\n",
    "\n",
    "There are 5 dependent (target) variable columns:\n",
    "- A_PCT10\n",
    "- A_PCT25\n",
    "- A_MEDIAN\n",
    "- A_PCT75\n",
    "- A_PCT90\n",
    "\n",
    "indicating the 10-th percentile, 25-th percentile, median, 75-th percentile, 90-th percentile of the annual base salary given the state, industry, and occupation information.\n",
    "\n",
    "**IMPORTANT**: the percentiles should follow an increasing order. Namely, the 10-th percentile is less than (<) the 25-th percentile, the 25-th percentile is less than (<) the 50-th percentile, etc.\n",
    "\n",
    "## Deliverables\n",
    "\n",
    "### Submit a Well commented Jupyter Notebook\n",
    "\n",
    "Explore the data, make visualizations, and generate new features if required. Make appropriate plots, annotate the notebook with markdowns and explain necessary inferences. A person should be able to read the notebook and understand the steps taken as well as the reasoning behind them. The solution will be graded on the basis of the usage of effective visualizations to convey the analysis and the modeling process.\n",
    "\n",
    "\n",
    "### Submit _submission.csv_\n",
    "\n",
    "In the given _submission.csv_, values in the \"A_PCT10\", \"A_PCT25\", \"A_MEDIAN\", \"A_PCT75\", and \"A_PCT90\" columns are constants, and you need to replace them with your model predictions.\n",
    "\n",
    "**IMPORTANT**:\n",
    "- please do not change the header given in _submission.csv_, or your predictions may not be evaluated correctly.\n",
    "- Your Jupyter Notebook should be able to generate your submitted predictions.\n",
    "\n",
    "\n",
    "\n",
    "## Evaluation Metric\n",
    "\n",
    "The model performance is evaluated by the mean normalized weighted absolute error (MNWAE) defined as the following:\n",
    "$$ MNWAE = \\frac{1}{n} \\sum_{i=1}^{n} \\sum_{j \\in \\{10, 25, 50, 75, 90\\}} w_j \\times \\frac{|y_{i,j}-z_{i,j}|}{z_{i,j}}$$\n",
    "where $y_{i,j}$ and $z_{i,j}$ are the model estimation and the ground truth of the $i$-th row and $j$-th percentile, and\n",
    "$$ w_{10} = w_{90} = 0.1, $$\n",
    "$$ w_{25} = w_{75} = 0.2, $$\n",
    "$$ w_{50} = 0.4 $$\n",
    "\n",
    "For example, if\n",
    "\n",
    "actual percentiles = [10000, 30000, 60000, 80000, 100000],\n",
    "\n",
    "predicted percentiles = [11000, 33000, 54000, 88000, 120000],\n",
    "\n",
    "normalized weighted absolute error = 0.1*|11000-10000|/10000+0.2*|33000-30000|/30000+0.4*|54000-60000|/60000+0.2*|88000-80000|/80000+0.1*|120000-100000|/100000 = 0.11\n",
    "\n",
    "**IMPORTANT**: if the predicted percentiles in any row do not follow an increasing order, all the predictions will be considered as invalid."
   ]
  },
  {
   "cell_type": "markdown",
   "id": "19879c97",
   "metadata": {},
   "source": [
    "## Solution .."
   ]
  },
  {
   "cell_type": "code",
   "execution_count": 40,
   "id": "2ad2b084",
   "metadata": {},
   "outputs": [],
   "source": [
    "#import transformers for embedding "
   ]
  },
  {
   "cell_type": "code",
   "execution_count": 94,
   "id": "a107f167-f73a-4842-ba9b-7189e13a3a95",
   "metadata": {},
   "outputs": [],
   "source": [
    "# Import the `pandas` library to load the dataset\n",
    "import pandas as pd\n",
    "import matplotlib.pyplot as plt  \n",
    "import numpy as np  "
   ]
  },
  {
   "cell_type": "code",
   "execution_count": 2,
   "id": "0f568cf6",
   "metadata": {},
   "outputs": [
    {
     "data": {
      "text/plain": [
       "(2297, 8)"
      ]
     },
     "execution_count": 2,
     "metadata": {},
     "output_type": "execute_result"
    }
   ],
   "source": [
    "df_train = pd.read_csv('train.csv')\n",
    "df_train.shape"
   ]
  },
  {
   "cell_type": "code",
   "execution_count": 3,
   "id": "06802137",
   "metadata": {},
   "outputs": [
    {
     "data": {
      "text/plain": [
       "(2297, 8)"
      ]
     },
     "execution_count": 3,
     "metadata": {},
     "output_type": "execute_result"
    }
   ],
   "source": [
    "df_train.head()\n",
    "df_train.shape"
   ]
  },
  {
   "cell_type": "code",
   "execution_count": 4,
   "id": "1df93e74",
   "metadata": {},
   "outputs": [
    {
     "data": {
      "text/plain": [
       "PRIM_STATE       0\n",
       "NAICS_TITLE      0\n",
       "OCC_TITLE        0\n",
       "A_PCT10          0\n",
       "A_PCT25          0\n",
       "A_MEDIAN         0\n",
       "A_PCT75         30\n",
       "A_PCT90        139\n",
       "dtype: int64"
      ]
     },
     "execution_count": 4,
     "metadata": {},
     "output_type": "execute_result"
    }
   ],
   "source": [
    "#check data missing value\n",
    "df_train.isnull().sum()"
   ]
  },
  {
   "cell_type": "code",
   "execution_count": 5,
   "id": "cfd411e3",
   "metadata": {},
   "outputs": [
    {
     "data": {
      "text/plain": [
       "(2158, 8)"
      ]
     },
     "execution_count": 5,
     "metadata": {},
     "output_type": "execute_result"
    }
   ],
   "source": [
    "#remove missing value\n",
    "df_train = df_train.dropna()\n",
    "df_train.shape"
   ]
  },
  {
   "cell_type": "code",
   "execution_count": 6,
   "id": "a02eff26",
   "metadata": {},
   "outputs": [
    {
     "data": {
      "text/plain": [
       "PRIM_STATE     0\n",
       "NAICS_TITLE    0\n",
       "OCC_TITLE      0\n",
       "A_PCT10        0\n",
       "A_PCT25        0\n",
       "A_MEDIAN       0\n",
       "A_PCT75        0\n",
       "A_PCT90        0\n",
       "dtype: int64"
      ]
     },
     "execution_count": 6,
     "metadata": {},
     "output_type": "execute_result"
    }
   ],
   "source": [
    "#check data missing value\n",
    "df_train.isnull().sum()"
   ]
  },
  {
   "cell_type": "code",
   "execution_count": 7,
   "id": "ebdbeede",
   "metadata": {},
   "outputs": [
    {
     "data": {
      "text/plain": [
       "SentenceTransformer(\n",
       "  (0): Transformer({'max_seq_length': 128, 'do_lower_case': False}) with Transformer model: BertModel \n",
       "  (1): Pooling({'word_embedding_dimension': 768, 'pooling_mode_cls_token': False, 'pooling_mode_mean_tokens': True, 'pooling_mode_max_tokens': False, 'pooling_mode_mean_sqrt_len_tokens': False})\n",
       ")"
      ]
     },
     "execution_count": 7,
     "metadata": {},
     "output_type": "execute_result"
    }
   ],
   "source": [
    "#from  sentence_transformers import  AutoModel, AutoModelWithLMHead, BertModel, BertTokenizer\n",
    "from sentence_transformers import SentenceTransformer\n",
    "#embed the test into  768 \n",
    "model = SentenceTransformer('bert-base-nli-mean-tokens')\n",
    "#define embed len of 768 to  99\n",
    "model"
   ]
  },
  {
   "cell_type": "code",
   "execution_count": 8,
   "id": "26201fe3",
   "metadata": {},
   "outputs": [
    {
     "data": {
      "text/plain": [
       "Index(['PRIM_STATE', 'NAICS_TITLE', 'OCC_TITLE', 'A_PCT10', 'A_PCT25',\n",
       "       'A_MEDIAN', 'A_PCT75', 'A_PCT90'],\n",
       "      dtype='object')"
      ]
     },
     "execution_count": 8,
     "metadata": {},
     "output_type": "execute_result"
    }
   ],
   "source": [
    "df_train.columns"
   ]
  },
  {
   "cell_type": "markdown",
   "id": "0fcb37a2",
   "metadata": {},
   "source": [
    "``EMbedding the  Text ``"
   ]
  },
  {
   "cell_type": "code",
   "execution_count": 9,
   "id": "d8efbe7c",
   "metadata": {},
   "outputs": [],
   "source": [
    "NAICS_TITLE_Embed = model.encode(df_train['NAICS_TITLE'])\n",
    "OCC_TITLE_Embed = model.encode(df_train['OCC_TITLE'])\n",
    "PRIM_STATE_Embed = model.encode(df_train['PRIM_STATE'])"
   ]
  },
  {
   "cell_type": "markdown",
   "id": "0cf39d5d",
   "metadata": {},
   "source": [
    "``Making  columns for  768  for each  text columns ``"
   ]
  },
  {
   "cell_type": "code",
   "execution_count": 10,
   "id": "99c04daa",
   "metadata": {},
   "outputs": [],
   "source": [
    "new_data=pd.DataFrame(columns=['N_'+str(i)  for i in  range(768)]+['O_'+str(i)  for i in  range(768)]+['P_'+str(i) for i in  range(768)])"
   ]
  },
  {
   "cell_type": "code",
   "execution_count": 11,
   "id": "7d69112b",
   "metadata": {},
   "outputs": [
    {
     "data": {
      "text/plain": [
       "(2158, 8)"
      ]
     },
     "execution_count": 11,
     "metadata": {},
     "output_type": "execute_result"
    }
   ],
   "source": [
    "df_train.shape"
   ]
  },
  {
   "cell_type": "code",
   "execution_count": 12,
   "id": "c5810cde",
   "metadata": {},
   "outputs": [
    {
     "data": {
      "text/plain": [
       "(2158, 768)"
      ]
     },
     "execution_count": 12,
     "metadata": {},
     "output_type": "execute_result"
    }
   ],
   "source": [
    "NAICS_TITLE_Embed.shape"
   ]
  },
  {
   "cell_type": "markdown",
   "id": "6626eef2",
   "metadata": {},
   "source": [
    "``Loading  data in new DataFrame that above mentioned``"
   ]
  },
  {
   "cell_type": "code",
   "execution_count": 14,
   "id": "3b1d1918",
   "metadata": {},
   "outputs": [],
   "source": [
    "for i in  range(768):\n",
    "    new_data['N_'+str(i)]=NAICS_TITLE_Embed[:,i]\n",
    "    new_data['O_'+str(i)]=OCC_TITLE_Embed[:,i]\n",
    "    new_data['P_'+str(i)]=PRIM_STATE_Embed[:,i]"
   ]
  },
  {
   "cell_type": "markdown",
   "id": "a520a426",
   "metadata": {},
   "source": [
    "``Normalize data into  Zscore ``"
   ]
  },
  {
   "cell_type": "code",
   "execution_count": 15,
   "id": "7e372a65",
   "metadata": {},
   "outputs": [
    {
     "data": {
      "text/plain": [
       "(2158, 5)"
      ]
     },
     "execution_count": 15,
     "metadata": {},
     "output_type": "execute_result"
    }
   ],
   "source": [
    "from  sklearn.preprocessing  import  StandardScaler\n",
    "scaler = StandardScaler()\n",
    "df_scale=scaler.fit_transform(df_train[['A_PCT10', 'A_PCT25','A_MEDIAN', 'A_PCT75', 'A_PCT90']])\n",
    "df_scale.shape"
   ]
  },
  {
   "cell_type": "markdown",
   "id": "1109c2f1",
   "metadata": {},
   "source": [
    "``Saving  the mean and varience for  further de normalise  for Y target ``"
   ]
  },
  {
   "cell_type": "code",
   "execution_count": 17,
   "id": "9c9200f9",
   "metadata": {},
   "outputs": [],
   "source": [
    "var_=[1.12387245e+08, 2.20044299e+08, 4.48678612e+08, 8.45444517e+08,\n",
    "        1.52372954e+09]\n",
    "mean_=[32137.2613531 , 40012.56255792, 51940.24096386, 67975.05560704,\n",
    "        87937.31232623]"
   ]
  },
  {
   "cell_type": "code",
   "execution_count": 18,
   "id": "4a0de86b",
   "metadata": {},
   "outputs": [
    {
     "data": {
      "text/plain": [
       "(array([1.12387245e+08, 2.20044299e+08, 4.48678612e+08, 8.45444517e+08,\n",
       "        1.52372954e+09]),\n",
       " array([32137.2613531 , 40012.56255792, 51940.24096386, 67975.05560704,\n",
       "        87937.31232623]))"
      ]
     },
     "execution_count": 18,
     "metadata": {},
     "output_type": "execute_result"
    }
   ],
   "source": [
    "scaler.var_,scaler.mean_"
   ]
  },
  {
   "cell_type": "markdown",
   "id": "8b6700f1",
   "metadata": {},
   "source": [
    "``Merging X and Y with 5 output together in  new_data DataFrame ``\n",
    "\n",
    "``Note: I  have not  normalise the X data after apply Embedding   ``"
   ]
  },
  {
   "cell_type": "code",
   "execution_count": 19,
   "id": "031ca97e",
   "metadata": {},
   "outputs": [
    {
     "name": "stderr",
     "output_type": "stream",
     "text": [
      "c:\\Users\\MLEng\\anaconda3\\lib\\site-packages\\pandas\\core\\frame.py:3678: PerformanceWarning: DataFrame is highly fragmented.  This is usually the result of calling `frame.insert` many times, which has poor performance.  Consider joining all columns at once using pd.concat(axis=1) instead.  To get a de-fragmented frame, use `newframe = frame.copy()`\n",
      "  self[col] = igetitem(value, i)\n"
     ]
    }
   ],
   "source": [
    "new_data[['A_PCT10', 'A_PCT25','A_MEDIAN', 'A_PCT75', 'A_PCT90']]=df_scale"
   ]
  },
  {
   "cell_type": "code",
   "execution_count": 88,
   "id": "4c9109a1",
   "metadata": {},
   "outputs": [
    {
     "data": {
      "text/html": [
       "<div>\n",
       "<style scoped>\n",
       "    .dataframe tbody tr th:only-of-type {\n",
       "        vertical-align: middle;\n",
       "    }\n",
       "\n",
       "    .dataframe tbody tr th {\n",
       "        vertical-align: top;\n",
       "    }\n",
       "\n",
       "    .dataframe thead th {\n",
       "        text-align: right;\n",
       "    }\n",
       "</style>\n",
       "<table border=\"1\" class=\"dataframe\">\n",
       "  <thead>\n",
       "    <tr style=\"text-align: right;\">\n",
       "      <th></th>\n",
       "      <th>N_0</th>\n",
       "      <th>N_1</th>\n",
       "      <th>N_2</th>\n",
       "      <th>N_3</th>\n",
       "      <th>N_4</th>\n",
       "      <th>N_5</th>\n",
       "      <th>N_6</th>\n",
       "      <th>N_7</th>\n",
       "      <th>N_8</th>\n",
       "      <th>N_9</th>\n",
       "      <th>...</th>\n",
       "      <th>P_763</th>\n",
       "      <th>P_764</th>\n",
       "      <th>P_765</th>\n",
       "      <th>P_766</th>\n",
       "      <th>P_767</th>\n",
       "      <th>A_PCT10</th>\n",
       "      <th>A_PCT25</th>\n",
       "      <th>A_MEDIAN</th>\n",
       "      <th>A_PCT75</th>\n",
       "      <th>A_PCT90</th>\n",
       "    </tr>\n",
       "  </thead>\n",
       "  <tbody>\n",
       "    <tr>\n",
       "      <th>0</th>\n",
       "      <td>0.428084</td>\n",
       "      <td>-0.900451</td>\n",
       "      <td>2.462716</td>\n",
       "      <td>0.794832</td>\n",
       "      <td>0.033432</td>\n",
       "      <td>-0.382973</td>\n",
       "      <td>-1.133532</td>\n",
       "      <td>0.422672</td>\n",
       "      <td>0.126313</td>\n",
       "      <td>-0.616636</td>\n",
       "      <td>...</td>\n",
       "      <td>-0.20639</td>\n",
       "      <td>0.281729</td>\n",
       "      <td>-0.343159</td>\n",
       "      <td>0.250593</td>\n",
       "      <td>-0.158562</td>\n",
       "      <td>0.020067</td>\n",
       "      <td>0.012636</td>\n",
       "      <td>-0.054303</td>\n",
       "      <td>-0.186235</td>\n",
       "      <td>-0.241253</td>\n",
       "    </tr>\n",
       "    <tr>\n",
       "      <th>1</th>\n",
       "      <td>0.119501</td>\n",
       "      <td>0.233227</td>\n",
       "      <td>0.515907</td>\n",
       "      <td>0.275239</td>\n",
       "      <td>0.470334</td>\n",
       "      <td>-0.071091</td>\n",
       "      <td>-1.142169</td>\n",
       "      <td>0.681103</td>\n",
       "      <td>0.481496</td>\n",
       "      <td>-0.009242</td>\n",
       "      <td>...</td>\n",
       "      <td>-0.20639</td>\n",
       "      <td>0.281729</td>\n",
       "      <td>-0.343159</td>\n",
       "      <td>0.250593</td>\n",
       "      <td>-0.158562</td>\n",
       "      <td>1.483097</td>\n",
       "      <td>1.455278</td>\n",
       "      <td>1.693405</td>\n",
       "      <td>1.357966</td>\n",
       "      <td>1.682150</td>\n",
       "    </tr>\n",
       "    <tr>\n",
       "      <th>2</th>\n",
       "      <td>0.227968</td>\n",
       "      <td>-0.632990</td>\n",
       "      <td>1.029864</td>\n",
       "      <td>-0.022027</td>\n",
       "      <td>0.892578</td>\n",
       "      <td>-0.264391</td>\n",
       "      <td>-1.767998</td>\n",
       "      <td>0.846168</td>\n",
       "      <td>0.171998</td>\n",
       "      <td>-0.618307</td>\n",
       "      <td>...</td>\n",
       "      <td>-0.20639</td>\n",
       "      <td>0.281729</td>\n",
       "      <td>-0.343159</td>\n",
       "      <td>0.250593</td>\n",
       "      <td>-0.158562</td>\n",
       "      <td>2.556552</td>\n",
       "      <td>1.553027</td>\n",
       "      <td>1.784520</td>\n",
       "      <td>2.006599</td>\n",
       "      <td>1.566100</td>\n",
       "    </tr>\n",
       "    <tr>\n",
       "      <th>3</th>\n",
       "      <td>-0.105059</td>\n",
       "      <td>0.498140</td>\n",
       "      <td>1.063854</td>\n",
       "      <td>0.221532</td>\n",
       "      <td>0.707098</td>\n",
       "      <td>-0.024127</td>\n",
       "      <td>-0.434689</td>\n",
       "      <td>-0.418044</td>\n",
       "      <td>0.072688</td>\n",
       "      <td>-0.282870</td>\n",
       "      <td>...</td>\n",
       "      <td>-0.20639</td>\n",
       "      <td>0.281729</td>\n",
       "      <td>-0.343159</td>\n",
       "      <td>0.250593</td>\n",
       "      <td>-0.158562</td>\n",
       "      <td>0.488878</td>\n",
       "      <td>0.513516</td>\n",
       "      <td>0.406465</td>\n",
       "      <td>0.325862</td>\n",
       "      <td>0.283148</td>\n",
       "    </tr>\n",
       "    <tr>\n",
       "      <th>4</th>\n",
       "      <td>0.410819</td>\n",
       "      <td>0.307810</td>\n",
       "      <td>1.964899</td>\n",
       "      <td>0.087561</td>\n",
       "      <td>-0.291335</td>\n",
       "      <td>1.094691</td>\n",
       "      <td>-0.000369</td>\n",
       "      <td>0.907387</td>\n",
       "      <td>-0.160123</td>\n",
       "      <td>0.023419</td>\n",
       "      <td>...</td>\n",
       "      <td>-0.20639</td>\n",
       "      <td>0.281729</td>\n",
       "      <td>-0.343159</td>\n",
       "      <td>0.250593</td>\n",
       "      <td>-0.158562</td>\n",
       "      <td>1.697222</td>\n",
       "      <td>1.606284</td>\n",
       "      <td>1.408257</td>\n",
       "      <td>1.257198</td>\n",
       "      <td>1.159029</td>\n",
       "    </tr>\n",
       "  </tbody>\n",
       "</table>\n",
       "<p>5 rows × 2309 columns</p>\n",
       "</div>"
      ],
      "text/plain": [
       "        N_0       N_1       N_2       N_3       N_4       N_5       N_6  \\\n",
       "0  0.428084 -0.900451  2.462716  0.794832  0.033432 -0.382973 -1.133532   \n",
       "1  0.119501  0.233227  0.515907  0.275239  0.470334 -0.071091 -1.142169   \n",
       "2  0.227968 -0.632990  1.029864 -0.022027  0.892578 -0.264391 -1.767998   \n",
       "3 -0.105059  0.498140  1.063854  0.221532  0.707098 -0.024127 -0.434689   \n",
       "4  0.410819  0.307810  1.964899  0.087561 -0.291335  1.094691 -0.000369   \n",
       "\n",
       "        N_7       N_8       N_9  ...    P_763     P_764     P_765     P_766  \\\n",
       "0  0.422672  0.126313 -0.616636  ... -0.20639  0.281729 -0.343159  0.250593   \n",
       "1  0.681103  0.481496 -0.009242  ... -0.20639  0.281729 -0.343159  0.250593   \n",
       "2  0.846168  0.171998 -0.618307  ... -0.20639  0.281729 -0.343159  0.250593   \n",
       "3 -0.418044  0.072688 -0.282870  ... -0.20639  0.281729 -0.343159  0.250593   \n",
       "4  0.907387 -0.160123  0.023419  ... -0.20639  0.281729 -0.343159  0.250593   \n",
       "\n",
       "      P_767   A_PCT10   A_PCT25  A_MEDIAN   A_PCT75   A_PCT90  \n",
       "0 -0.158562  0.020067  0.012636 -0.054303 -0.186235 -0.241253  \n",
       "1 -0.158562  1.483097  1.455278  1.693405  1.357966  1.682150  \n",
       "2 -0.158562  2.556552  1.553027  1.784520  2.006599  1.566100  \n",
       "3 -0.158562  0.488878  0.513516  0.406465  0.325862  0.283148  \n",
       "4 -0.158562  1.697222  1.606284  1.408257  1.257198  1.159029  \n",
       "\n",
       "[5 rows x 2309 columns]"
      ]
     },
     "execution_count": 88,
     "metadata": {},
     "output_type": "execute_result"
    }
   ],
   "source": [
    "new_data.head(5)"
   ]
  },
  {
   "cell_type": "code",
   "execution_count": 21,
   "id": "a1d8c94b",
   "metadata": {},
   "outputs": [
    {
     "data": {
      "text/plain": [
       "(2158, 2309)"
      ]
     },
     "execution_count": 21,
     "metadata": {},
     "output_type": "execute_result"
    }
   ],
   "source": [
    "new_data.shape"
   ]
  },
  {
   "cell_type": "markdown",
   "id": "dd9dc69f",
   "metadata": {},
   "source": [
    "``After apply KNN this problem get solve but we can also  apply simple LR and SVR as know ``\n",
    "``But what i think that if possible we get nearest Kth point from  X data that make sense that why i apply KNN   ``"
   ]
  },
  {
   "cell_type": "code",
   "execution_count": 22,
   "id": "82ce6b1f",
   "metadata": {},
   "outputs": [],
   "source": [
    "#apply kNN to predict the salary\n",
    "from sklearn.neighbors import KNeighborsRegressor\n",
    "from  sklearn.model_selection  import  train_test_split\n",
    "from  sklearn.metrics  import  mean_squared_error\n",
    "#import  mean normalized weighted absolute error (MNWAE)\n",
    "from  sklearn.metrics  import  make_scorer\n",
    "knn = KNeighborsRegressor(n_neighbors=5)\n",
    "\n",
    "X=new_data.iloc[:,0:2304]#Normalise text after using  sentence_transformers \n",
    "y=new_data.iloc[:,2304:2309]\n",
    "X_train, X_test, y_train, y_test = train_test_split(X, y, test_size=0.2, random_state=42)\n",
    "\n"
   ]
  },
  {
   "cell_type": "code",
   "execution_count": 23,
   "id": "6d6420ad",
   "metadata": {},
   "outputs": [
    {
     "data": {
      "text/plain": [
       "([112387245.0, 220044299.0, 448678612.0, 845444517.0, 1523729540.0],\n",
       " [32137.2613531,\n",
       "  40012.56255792,\n",
       "  51940.24096386,\n",
       "  67975.05560704,\n",
       "  87937.31232623])"
      ]
     },
     "execution_count": 23,
     "metadata": {},
     "output_type": "execute_result"
    }
   ],
   "source": [
    "var_,mean_"
   ]
  },
  {
   "cell_type": "markdown",
   "id": "4eacb895",
   "metadata": {},
   "source": [
    "``Loading  MEan and Var ``"
   ]
  },
  {
   "cell_type": "code",
   "execution_count": 24,
   "id": "de45f84f",
   "metadata": {},
   "outputs": [],
   "source": [
    "import numpy as np  \n",
    "var_=np.array(var_)\n",
    "mean_=np.array(mean_)\n"
   ]
  },
  {
   "cell_type": "code",
   "execution_count": 28,
   "id": "639cb108",
   "metadata": {},
   "outputs": [
    {
     "data": {
      "text/html": [
       "<div>\n",
       "<style scoped>\n",
       "    .dataframe tbody tr th:only-of-type {\n",
       "        vertical-align: middle;\n",
       "    }\n",
       "\n",
       "    .dataframe tbody tr th {\n",
       "        vertical-align: top;\n",
       "    }\n",
       "\n",
       "    .dataframe thead th {\n",
       "        text-align: right;\n",
       "    }\n",
       "</style>\n",
       "<table border=\"1\" class=\"dataframe\">\n",
       "  <thead>\n",
       "    <tr style=\"text-align: right;\">\n",
       "      <th></th>\n",
       "      <th>N_0</th>\n",
       "      <th>N_1</th>\n",
       "      <th>N_2</th>\n",
       "      <th>N_3</th>\n",
       "      <th>N_4</th>\n",
       "      <th>N_5</th>\n",
       "      <th>N_6</th>\n",
       "      <th>N_7</th>\n",
       "      <th>N_8</th>\n",
       "      <th>N_9</th>\n",
       "      <th>...</th>\n",
       "      <th>P_758</th>\n",
       "      <th>P_759</th>\n",
       "      <th>P_760</th>\n",
       "      <th>P_761</th>\n",
       "      <th>P_762</th>\n",
       "      <th>P_763</th>\n",
       "      <th>P_764</th>\n",
       "      <th>P_765</th>\n",
       "      <th>P_766</th>\n",
       "      <th>P_767</th>\n",
       "    </tr>\n",
       "  </thead>\n",
       "  <tbody>\n",
       "    <tr>\n",
       "      <th>997</th>\n",
       "      <td>0.149330</td>\n",
       "      <td>-0.023193</td>\n",
       "      <td>1.604413</td>\n",
       "      <td>0.119275</td>\n",
       "      <td>-0.242201</td>\n",
       "      <td>0.636822</td>\n",
       "      <td>-0.668447</td>\n",
       "      <td>0.997238</td>\n",
       "      <td>0.115016</td>\n",
       "      <td>-0.47612</td>\n",
       "      <td>...</td>\n",
       "      <td>0.365274</td>\n",
       "      <td>-0.149756</td>\n",
       "      <td>0.499679</td>\n",
       "      <td>0.486620</td>\n",
       "      <td>-0.522635</td>\n",
       "      <td>-0.198946</td>\n",
       "      <td>0.172999</td>\n",
       "      <td>0.189230</td>\n",
       "      <td>0.063899</td>\n",
       "      <td>0.271388</td>\n",
       "    </tr>\n",
       "    <tr>\n",
       "      <th>361</th>\n",
       "      <td>0.149330</td>\n",
       "      <td>-0.023193</td>\n",
       "      <td>1.604413</td>\n",
       "      <td>0.119275</td>\n",
       "      <td>-0.242201</td>\n",
       "      <td>0.636822</td>\n",
       "      <td>-0.668447</td>\n",
       "      <td>0.997238</td>\n",
       "      <td>0.115016</td>\n",
       "      <td>-0.47612</td>\n",
       "      <td>...</td>\n",
       "      <td>0.814244</td>\n",
       "      <td>-0.010145</td>\n",
       "      <td>0.421150</td>\n",
       "      <td>1.049751</td>\n",
       "      <td>-0.283488</td>\n",
       "      <td>-0.365852</td>\n",
       "      <td>0.480489</td>\n",
       "      <td>-0.176223</td>\n",
       "      <td>0.159697</td>\n",
       "      <td>0.314224</td>\n",
       "    </tr>\n",
       "    <tr>\n",
       "      <th>416</th>\n",
       "      <td>-0.098339</td>\n",
       "      <td>-0.543112</td>\n",
       "      <td>2.475527</td>\n",
       "      <td>0.835461</td>\n",
       "      <td>0.666772</td>\n",
       "      <td>0.021136</td>\n",
       "      <td>-0.889064</td>\n",
       "      <td>0.834138</td>\n",
       "      <td>0.172423</td>\n",
       "      <td>-0.10684</td>\n",
       "      <td>...</td>\n",
       "      <td>0.433737</td>\n",
       "      <td>-0.588564</td>\n",
       "      <td>0.599435</td>\n",
       "      <td>0.574548</td>\n",
       "      <td>-0.705447</td>\n",
       "      <td>-0.206390</td>\n",
       "      <td>0.281729</td>\n",
       "      <td>-0.343159</td>\n",
       "      <td>0.250593</td>\n",
       "      <td>-0.158562</td>\n",
       "    </tr>\n",
       "    <tr>\n",
       "      <th>1112</th>\n",
       "      <td>0.149330</td>\n",
       "      <td>-0.023193</td>\n",
       "      <td>1.604413</td>\n",
       "      <td>0.119275</td>\n",
       "      <td>-0.242201</td>\n",
       "      <td>0.636822</td>\n",
       "      <td>-0.668447</td>\n",
       "      <td>0.997238</td>\n",
       "      <td>0.115016</td>\n",
       "      <td>-0.47612</td>\n",
       "      <td>...</td>\n",
       "      <td>0.886690</td>\n",
       "      <td>-0.160474</td>\n",
       "      <td>0.454110</td>\n",
       "      <td>0.348450</td>\n",
       "      <td>-0.317521</td>\n",
       "      <td>0.063104</td>\n",
       "      <td>-0.067833</td>\n",
       "      <td>0.014125</td>\n",
       "      <td>-0.000544</td>\n",
       "      <td>0.175693</td>\n",
       "    </tr>\n",
       "    <tr>\n",
       "      <th>485</th>\n",
       "      <td>0.149330</td>\n",
       "      <td>-0.023193</td>\n",
       "      <td>1.604413</td>\n",
       "      <td>0.119275</td>\n",
       "      <td>-0.242201</td>\n",
       "      <td>0.636822</td>\n",
       "      <td>-0.668447</td>\n",
       "      <td>0.997238</td>\n",
       "      <td>0.115016</td>\n",
       "      <td>-0.47612</td>\n",
       "      <td>...</td>\n",
       "      <td>0.886690</td>\n",
       "      <td>-0.160474</td>\n",
       "      <td>0.454110</td>\n",
       "      <td>0.348450</td>\n",
       "      <td>-0.317521</td>\n",
       "      <td>0.063104</td>\n",
       "      <td>-0.067833</td>\n",
       "      <td>0.014125</td>\n",
       "      <td>-0.000544</td>\n",
       "      <td>0.175693</td>\n",
       "    </tr>\n",
       "  </tbody>\n",
       "</table>\n",
       "<p>5 rows × 2304 columns</p>\n",
       "</div>"
      ],
      "text/plain": [
       "           N_0       N_1       N_2       N_3       N_4       N_5       N_6  \\\n",
       "997   0.149330 -0.023193  1.604413  0.119275 -0.242201  0.636822 -0.668447   \n",
       "361   0.149330 -0.023193  1.604413  0.119275 -0.242201  0.636822 -0.668447   \n",
       "416  -0.098339 -0.543112  2.475527  0.835461  0.666772  0.021136 -0.889064   \n",
       "1112  0.149330 -0.023193  1.604413  0.119275 -0.242201  0.636822 -0.668447   \n",
       "485   0.149330 -0.023193  1.604413  0.119275 -0.242201  0.636822 -0.668447   \n",
       "\n",
       "           N_7       N_8      N_9  ...     P_758     P_759     P_760  \\\n",
       "997   0.997238  0.115016 -0.47612  ...  0.365274 -0.149756  0.499679   \n",
       "361   0.997238  0.115016 -0.47612  ...  0.814244 -0.010145  0.421150   \n",
       "416   0.834138  0.172423 -0.10684  ...  0.433737 -0.588564  0.599435   \n",
       "1112  0.997238  0.115016 -0.47612  ...  0.886690 -0.160474  0.454110   \n",
       "485   0.997238  0.115016 -0.47612  ...  0.886690 -0.160474  0.454110   \n",
       "\n",
       "         P_761     P_762     P_763     P_764     P_765     P_766     P_767  \n",
       "997   0.486620 -0.522635 -0.198946  0.172999  0.189230  0.063899  0.271388  \n",
       "361   1.049751 -0.283488 -0.365852  0.480489 -0.176223  0.159697  0.314224  \n",
       "416   0.574548 -0.705447 -0.206390  0.281729 -0.343159  0.250593 -0.158562  \n",
       "1112  0.348450 -0.317521  0.063104 -0.067833  0.014125 -0.000544  0.175693  \n",
       "485   0.348450 -0.317521  0.063104 -0.067833  0.014125 -0.000544  0.175693  \n",
       "\n",
       "[5 rows x 2304 columns]"
      ]
     },
     "execution_count": 28,
     "metadata": {},
     "output_type": "execute_result"
    }
   ],
   "source": [
    "X_test.head(5)"
   ]
  },
  {
   "cell_type": "markdown",
   "id": "efae4446",
   "metadata": {},
   "source": [
    "``Fitting  the X and Y using  KNN after split data for validation using  Train_test_split  ``"
   ]
  },
  {
   "cell_type": "code",
   "execution_count": 73,
   "id": "3aa3ff55",
   "metadata": {},
   "outputs": [],
   "source": [
    "knn.fit(X_train,y_train)\n",
    "y_pred=knn.predict(X_test)\n",
    "y_pred_out=[]\n",
    "for i in  y_pred:\n",
    "    x=i*np.power(var_,0.5) + mean_\n",
    "    y_pred_out.append([round(x,2) for x in x])\n",
    "# y_pred_out"
   ]
  },
  {
   "cell_type": "markdown",
   "id": "ed50095e",
   "metadata": {},
   "source": [
    "The model performance is evaluated by the mean normalized weighted absolute error (MNWAE) defined as the following:\n",
    "$$ MNWAE = \\frac{1}{n} \\sum_{i=1}^{n} \\sum_{j \\in \\{10, 25, 50, 75, 90\\}} w_j \\times \\frac{|y_{i,j}-z_{i,j}|}{z_{i,j}}$$\n",
    "where $y_{i,j}$ and $z_{i,j}$ are the model estimation and the ground truth of the $i$-th row and $j$-th percentile, and\n",
    "$$ w_{10} = w_{90} = 0.1, $$\n",
    "$$ w_{25} = w_{75} = 0.2, $$\n",
    "$$ w_{50} = 0.4 $$"
   ]
  },
  {
   "cell_type": "markdown",
   "id": "0a36d63f",
   "metadata": {},
   "source": [
    "``Mean Normalized weighted absolute error ``"
   ]
  },
  {
   "cell_type": "code",
   "execution_count": 92,
   "id": "1ea2483d",
   "metadata": {},
   "outputs": [],
   "source": [
    "def  MNWAE(y_true, y_pred):\n",
    "    normal=(abs(y_true-y_pred)/y_true)\n",
    "    w10=w90=0.1\n",
    "    w25=w75=0.2\n",
    "    w50=0.4\n",
    "    w=np.array([w10,w25,w50,w75,w90])\n",
    "    return np.sum(normal*w)/len(y_true)\n",
    "    "
   ]
  },
  {
   "cell_type": "markdown",
   "id": "05dd914f",
   "metadata": {},
   "source": [
    "``De Normalise the Target into  actual value corresponding   ``"
   ]
  },
  {
   "cell_type": "code",
   "execution_count": 76,
   "id": "379dcac9",
   "metadata": {},
   "outputs": [
    {
     "data": {
      "text/html": [
       "<div>\n",
       "<style scoped>\n",
       "    .dataframe tbody tr th:only-of-type {\n",
       "        vertical-align: middle;\n",
       "    }\n",
       "\n",
       "    .dataframe tbody tr th {\n",
       "        vertical-align: top;\n",
       "    }\n",
       "\n",
       "    .dataframe thead th {\n",
       "        text-align: right;\n",
       "    }\n",
       "</style>\n",
       "<table border=\"1\" class=\"dataframe\">\n",
       "  <thead>\n",
       "    <tr style=\"text-align: right;\">\n",
       "      <th></th>\n",
       "      <th>A_PCT10</th>\n",
       "      <th>A_PCT25</th>\n",
       "      <th>A_MEDIAN</th>\n",
       "      <th>A_PCT75</th>\n",
       "      <th>A_PCT90</th>\n",
       "    </tr>\n",
       "  </thead>\n",
       "  <tbody>\n",
       "    <tr>\n",
       "      <th>997</th>\n",
       "      <td>29289.999995</td>\n",
       "      <td>37079.999998</td>\n",
       "      <td>47430.000000</td>\n",
       "      <td>61210.000000</td>\n",
       "      <td>78549.999992</td>\n",
       "    </tr>\n",
       "    <tr>\n",
       "      <th>361</th>\n",
       "      <td>48420.000027</td>\n",
       "      <td>68840.000016</td>\n",
       "      <td>98809.999996</td>\n",
       "      <td>127829.999996</td>\n",
       "      <td>168290.000072</td>\n",
       "    </tr>\n",
       "    <tr>\n",
       "      <th>416</th>\n",
       "      <td>30069.999997</td>\n",
       "      <td>31309.999995</td>\n",
       "      <td>49010.000000</td>\n",
       "      <td>60220.000001</td>\n",
       "      <td>75409.999989</td>\n",
       "    </tr>\n",
       "    <tr>\n",
       "      <th>1112</th>\n",
       "      <td>22539.999984</td>\n",
       "      <td>35549.999998</td>\n",
       "      <td>48260.000000</td>\n",
       "      <td>61350.000000</td>\n",
       "      <td>77629.999991</td>\n",
       "    </tr>\n",
       "    <tr>\n",
       "      <th>485</th>\n",
       "      <td>23259.999985</td>\n",
       "      <td>28079.999994</td>\n",
       "      <td>34600.000002</td>\n",
       "      <td>46640.000002</td>\n",
       "      <td>60379.999975</td>\n",
       "    </tr>\n",
       "  </tbody>\n",
       "</table>\n",
       "</div>"
      ],
      "text/plain": [
       "           A_PCT10       A_PCT25      A_MEDIAN        A_PCT75        A_PCT90\n",
       "997   29289.999995  37079.999998  47430.000000   61210.000000   78549.999992\n",
       "361   48420.000027  68840.000016  98809.999996  127829.999996  168290.000072\n",
       "416   30069.999997  31309.999995  49010.000000   60220.000001   75409.999989\n",
       "1112  22539.999984  35549.999998  48260.000000   61350.000000   77629.999991\n",
       "485   23259.999985  28079.999994  34600.000002   46640.000002   60379.999975"
      ]
     },
     "execution_count": 76,
     "metadata": {},
     "output_type": "execute_result"
    }
   ],
   "source": [
    "y_test_de_scale=(y_test*np.power(var_,0.5) + mean_)\n",
    "y_train_de_scale=(y_train*np.power(var_,0.5) + mean_)\n",
    "y_test_de_scale.head(5)"
   ]
  },
  {
   "cell_type": "markdown",
   "id": "1ca649bc",
   "metadata": {},
   "source": [
    "``MNWAE Error Between  the actual and predicted value  after apply KNN    ``"
   ]
  },
  {
   "cell_type": "code",
   "execution_count": 95,
   "id": "6f9fffda",
   "metadata": {},
   "outputs": [
    {
     "data": {
      "text/plain": [
       "0.1991487949345564"
      ]
     },
     "execution_count": 95,
     "metadata": {},
     "output_type": "execute_result"
    }
   ],
   "source": [
    "MNWAE(y_test_de_scale.values,y_pred_out)"
   ]
  },
  {
   "cell_type": "code",
   "execution_count": 96,
   "id": "8d591bb4",
   "metadata": {},
   "outputs": [],
   "source": [
    "var_=[1.12387245e+08, 2.20044299e+08, 4.48678612e+08, 8.45444517e+08,\n",
    "        1.52372954e+09]\n",
    "mean_=[32137.2613531 , 40012.56255792, 51940.24096386, 67975.05560704,\n",
    "        87937.31232623]"
   ]
  },
  {
   "cell_type": "code",
   "execution_count": 97,
   "id": "d9a6124d",
   "metadata": {},
   "outputs": [
    {
     "data": {
      "text/html": [
       "<div>\n",
       "<style scoped>\n",
       "    .dataframe tbody tr th:only-of-type {\n",
       "        vertical-align: middle;\n",
       "    }\n",
       "\n",
       "    .dataframe tbody tr th {\n",
       "        vertical-align: top;\n",
       "    }\n",
       "\n",
       "    .dataframe thead th {\n",
       "        text-align: right;\n",
       "    }\n",
       "</style>\n",
       "<table border=\"1\" class=\"dataframe\">\n",
       "  <thead>\n",
       "    <tr style=\"text-align: right;\">\n",
       "      <th></th>\n",
       "      <th>PRIM_STATE</th>\n",
       "      <th>NAICS_TITLE</th>\n",
       "      <th>OCC_TITLE</th>\n",
       "      <th>A_PCT10</th>\n",
       "      <th>A_PCT25</th>\n",
       "      <th>A_MEDIAN</th>\n",
       "      <th>A_PCT75</th>\n",
       "      <th>A_PCT90</th>\n",
       "    </tr>\n",
       "  </thead>\n",
       "  <tbody>\n",
       "    <tr>\n",
       "      <th>0</th>\n",
       "      <td>US</td>\n",
       "      <td>Accommodation and Food Services</td>\n",
       "      <td>Other Production Occupations</td>\n",
       "      <td>10000</td>\n",
       "      <td>20000</td>\n",
       "      <td>30000</td>\n",
       "      <td>40000</td>\n",
       "      <td>50000</td>\n",
       "    </tr>\n",
       "    <tr>\n",
       "      <th>1</th>\n",
       "      <td>NE</td>\n",
       "      <td>Cross-industry</td>\n",
       "      <td>Arts, Design, Entertainment, Sports, and Media...</td>\n",
       "      <td>10000</td>\n",
       "      <td>20000</td>\n",
       "      <td>30000</td>\n",
       "      <td>40000</td>\n",
       "      <td>50000</td>\n",
       "    </tr>\n",
       "    <tr>\n",
       "      <th>2</th>\n",
       "      <td>US</td>\n",
       "      <td>Manufacturing</td>\n",
       "      <td>Construction and Extraction Occupations</td>\n",
       "      <td>10000</td>\n",
       "      <td>20000</td>\n",
       "      <td>30000</td>\n",
       "      <td>40000</td>\n",
       "      <td>50000</td>\n",
       "    </tr>\n",
       "    <tr>\n",
       "      <th>3</th>\n",
       "      <td>US</td>\n",
       "      <td>Wholesale Trade</td>\n",
       "      <td>Material Moving Workers</td>\n",
       "      <td>10000</td>\n",
       "      <td>20000</td>\n",
       "      <td>30000</td>\n",
       "      <td>40000</td>\n",
       "      <td>50000</td>\n",
       "    </tr>\n",
       "    <tr>\n",
       "      <th>4</th>\n",
       "      <td>US</td>\n",
       "      <td>Other Services (except Public Administration)</td>\n",
       "      <td>Supervisors of Building and Grounds Cleaning a...</td>\n",
       "      <td>10000</td>\n",
       "      <td>20000</td>\n",
       "      <td>30000</td>\n",
       "      <td>40000</td>\n",
       "      <td>50000</td>\n",
       "    </tr>\n",
       "  </tbody>\n",
       "</table>\n",
       "</div>"
      ],
      "text/plain": [
       "  PRIM_STATE                                    NAICS_TITLE  \\\n",
       "0         US                Accommodation and Food Services   \n",
       "1         NE                                 Cross-industry   \n",
       "2         US                                  Manufacturing   \n",
       "3         US                                Wholesale Trade   \n",
       "4         US  Other Services (except Public Administration)   \n",
       "\n",
       "                                           OCC_TITLE  A_PCT10  A_PCT25  \\\n",
       "0                       Other Production Occupations    10000    20000   \n",
       "1  Arts, Design, Entertainment, Sports, and Media...    10000    20000   \n",
       "2            Construction and Extraction Occupations    10000    20000   \n",
       "3                            Material Moving Workers    10000    20000   \n",
       "4  Supervisors of Building and Grounds Cleaning a...    10000    20000   \n",
       "\n",
       "   A_MEDIAN  A_PCT75  A_PCT90  \n",
       "0     30000    40000    50000  \n",
       "1     30000    40000    50000  \n",
       "2     30000    40000    50000  \n",
       "3     30000    40000    50000  \n",
       "4     30000    40000    50000  "
      ]
     },
     "execution_count": 97,
     "metadata": {},
     "output_type": "execute_result"
    }
   ],
   "source": [
    "sub=pd.read_csv('./submission.csv')\n",
    "sub.head()"
   ]
  },
  {
   "cell_type": "code",
   "execution_count": 98,
   "id": "5ce6968a",
   "metadata": {},
   "outputs": [],
   "source": [
    "NAICS_TITLE_Embed_sub = model.encode(sub['NAICS_TITLE'])\n",
    "OCC_TITLE_Embed_sub = model.encode(sub['OCC_TITLE'])\n",
    "PRIM_STATE_Embed_sub = model.encode(sub['PRIM_STATE'])"
   ]
  },
  {
   "cell_type": "code",
   "execution_count": 36,
   "id": "6a043e03",
   "metadata": {},
   "outputs": [],
   "source": [
    "new_data_sub=pd.DataFrame(columns=['N_'+str(i)  for i in  range(768)]+['O_'+str(i)  for i in  range(768)]+['P_'+str(i) for i in  range(768)])\n",
    "\n",
    "for i in  range(768):\n",
    "    new_data_sub['N_'+str(i)]=NAICS_TITLE_Embed_sub[:,i]\n",
    "    new_data_sub['O_'+str(i)]=OCC_TITLE_Embed_sub[:,i]\n",
    "    new_data_sub['P_'+str(i)]=PRIM_STATE_Embed_sub[:,i]"
   ]
  },
  {
   "cell_type": "code",
   "execution_count": null,
   "id": "479a886a",
   "metadata": {},
   "outputs": [],
   "source": []
  },
  {
   "cell_type": "code",
   "execution_count": 51,
   "id": "7b8471d1",
   "metadata": {},
   "outputs": [],
   "source": [
    "# new_data_sub.shape\n",
    "y_pred_sub=knn.predict(new_data_sub)\n",
    "y_sub=[]\n",
    "for i in  y_pred_sub:\n",
    "    x=i*np.power(var_,0.5) + mean_\n",
    "    y_sub.append([round(x,2) for x in x])\n",
    "    # break\n"
   ]
  },
  {
   "cell_type": "code",
   "execution_count": 55,
   "id": "78230bcb",
   "metadata": {},
   "outputs": [],
   "source": [
    "A_PCT10=[]\n",
    "A_PCT25=[]\n",
    "A_MEDIAN=[]\n",
    "A_PCT75=[]\n",
    "A_PCT90=[]\n",
    "for i in  y_sub:\n",
    "    A_PCT10.append(i[0])\n",
    "    A_PCT25.append(i[1])\n",
    "    A_MEDIAN.append(i[2])\n",
    "    A_PCT75.append(i[3])\n",
    "    A_PCT90.append(i[4])"
   ]
  },
  {
   "cell_type": "code",
   "execution_count": 60,
   "id": "83737c5a",
   "metadata": {},
   "outputs": [],
   "source": [
    "sub['A_PCT10']=A_PCT10\n",
    "sub['A_PCT25']=A_PCT25\n",
    "sub['A_MEDIAN']=A_MEDIAN\n",
    "sub['A_PCT75']=A_PCT75\n",
    "sub['A_PCT90']=A_PCT90"
   ]
  },
  {
   "cell_type": "code",
   "execution_count": 99,
   "id": "baa2b4dd",
   "metadata": {},
   "outputs": [],
   "source": [
    "sub.to_csv('./submission1.csv')"
   ]
  }
 ],
 "metadata": {
  "kernelspec": {
   "display_name": "Python 3.9.7 ('base')",
   "language": "python",
   "name": "python3"
  },
  "language_info": {
   "codemirror_mode": {
    "name": "ipython",
    "version": 3
   },
   "file_extension": ".py",
   "mimetype": "text/x-python",
   "name": "python",
   "nbconvert_exporter": "python",
   "pygments_lexer": "ipython3",
   "version": "3.9.7"
  },
  "vscode": {
   "interpreter": {
    "hash": "5af1854737a4ea59056fbd1648ee35c818844bd5f689a634d5a501fd6120f10b"
   }
  }
 },
 "nbformat": 4,
 "nbformat_minor": 5
}
